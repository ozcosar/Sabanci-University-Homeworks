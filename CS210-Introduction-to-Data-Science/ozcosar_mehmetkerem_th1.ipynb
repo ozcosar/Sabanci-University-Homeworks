{
  "nbformat": 4,
  "nbformat_minor": 0,
  "metadata": {
    "colab": {
      "name": "ozcosar_mehmetkerem_th1.ipynb",
      "provenance": [],
      "collapsed_sections": [],
      "toc_visible": true
    },
    "kernelspec": {
      "name": "python3",
      "display_name": "Python 3"
    }
  },
  "cells": [
    {
      "cell_type": "markdown",
      "metadata": {
        "id": "EWSPUJGk3kH4"
      },
      "source": [
        "# Take-Home Exam 1: NYC Bike Rentals - Data Exploration\n",
        "\n",
        "In this take-home exam, you are going to investigate bike rentals that took place in NYC. Most of the tasks involve the libraries that you have experienced, such as pandas and matplotlib. In addition, you are going to use `folium` as well, in order to plot spatial distributions.\n",
        "\n",
        "**Submission Instructions**\n",
        "\n",
        "---\n",
        "Copy this assignment to you Drive. <font color = 'red'> `File` --> `Save a copy in Drive`</font>. Rename it as <font color = 'green'>`Lastname_Firstname_th1`</font>.\n",
        "\n",
        "Write your solutions in the cells  marked <font color = 'green'>`# your code`</font>.\n",
        "\n",
        "When you're done please submit your solutions as an <font color=\"red\">`.ipynb`</font> file. To do so:\n",
        "\n",
        "\n",
        "1.  Click on <font color=\"red\">`File`</font>  at the top left on the Colab screen, then click on <font color = 'red'>`Download .ipynb`</font>.\n",
        "2.   Then submit the <font color=\"red\">`.ipynb`</font> version of your work on your SUCourse submission.\n",
        "\n",
        "\n",
        "For any question, you may send an email to the TAs and LAs.\n",
        "\n",
        "---"
      ]
    },
    {
      "cell_type": "code",
      "metadata": {
        "id": "6bMsbFFU3G7O",
        "colab": {
          "base_uri": "https://localhost:8080/",
          "height": 122
        },
        "outputId": "3520e157-5cea-406b-c0b9-b71d20ae4c86"
      },
      "source": [
        "from google.colab import drive\n",
        "drive.mount(\"/content/drive\", force_remount=True)\n",
        "\n",
        "path_prefix = \"/content/drive/My Drive\""
      ],
      "execution_count": null,
      "outputs": [
        {
          "output_type": "stream",
          "text": [
            "Go to this URL in a browser: https://accounts.google.com/o/oauth2/auth?client_id=947318989803-6bn6qk8qdgf4n4g3pfee6491hc0brc4i.apps.googleusercontent.com&redirect_uri=urn%3aietf%3awg%3aoauth%3a2.0%3aoob&response_type=code&scope=email%20https%3a%2f%2fwww.googleapis.com%2fauth%2fdocs.test%20https%3a%2f%2fwww.googleapis.com%2fauth%2fdrive%20https%3a%2f%2fwww.googleapis.com%2fauth%2fdrive.photos.readonly%20https%3a%2f%2fwww.googleapis.com%2fauth%2fpeopleapi.readonly\n",
            "\n",
            "Enter your authorization code:\n",
            "··········\n",
            "Mounted at /content/drive\n"
          ],
          "name": "stdout"
        }
      ]
    },
    {
      "cell_type": "code",
      "metadata": {
        "id": "iMhn-Pd23UFZ"
      },
      "source": [
        "import pandas as pd\n",
        "import numpy as np\n",
        "import matplotlib.pyplot as plt\n",
        "\n",
        "from os.path import join\n",
        "\n",
        "%matplotlib inline"
      ],
      "execution_count": null,
      "outputs": []
    },
    {
      "cell_type": "code",
      "metadata": {
        "id": "ejGqxWtC3f5g",
        "colab": {
          "base_uri": "https://localhost:8080/",
          "height": 411
        },
        "outputId": "c7d6bf54-d2a8-46d1-98e2-68573e4008bc"
      },
      "source": [
        "fname = \"NYC-CityBike.csv\"\n",
        "df = pd.read_csv(join(path_prefix, fname))\n",
        "\n",
        "df.head()"
      ],
      "execution_count": null,
      "outputs": [
        {
          "output_type": "execute_result",
          "data": {
            "text/html": [
              "<div>\n",
              "<style scoped>\n",
              "    .dataframe tbody tr th:only-of-type {\n",
              "        vertical-align: middle;\n",
              "    }\n",
              "\n",
              "    .dataframe tbody tr th {\n",
              "        vertical-align: top;\n",
              "    }\n",
              "\n",
              "    .dataframe thead th {\n",
              "        text-align: right;\n",
              "    }\n",
              "</style>\n",
              "<table border=\"1\" class=\"dataframe\">\n",
              "  <thead>\n",
              "    <tr style=\"text-align: right;\">\n",
              "      <th></th>\n",
              "      <th>starttime</th>\n",
              "      <th>stoptime</th>\n",
              "      <th>start station id</th>\n",
              "      <th>start station name</th>\n",
              "      <th>start station latitude</th>\n",
              "      <th>start station longitude</th>\n",
              "      <th>end station id</th>\n",
              "      <th>end station name</th>\n",
              "      <th>end station latitude</th>\n",
              "      <th>end station longitude</th>\n",
              "      <th>bikeid</th>\n",
              "      <th>usertype</th>\n",
              "      <th>birth year</th>\n",
              "      <th>gender</th>\n",
              "    </tr>\n",
              "  </thead>\n",
              "  <tbody>\n",
              "    <tr>\n",
              "      <th>0</th>\n",
              "      <td>2016-05-31 19:58:48</td>\n",
              "      <td>5/31/2016 20:03:51</td>\n",
              "      <td>167</td>\n",
              "      <td>E 39 St &amp; 3 Ave</td>\n",
              "      <td>40.748901</td>\n",
              "      <td>-73.976049</td>\n",
              "      <td>501</td>\n",
              "      <td>FDR Drive &amp; E 35 St</td>\n",
              "      <td>40.744219</td>\n",
              "      <td>-73.971212</td>\n",
              "      <td>19022</td>\n",
              "      <td>Subscriber</td>\n",
              "      <td>1990.0</td>\n",
              "      <td>1</td>\n",
              "    </tr>\n",
              "    <tr>\n",
              "      <th>1</th>\n",
              "      <td>2016-03-23 11:32:40</td>\n",
              "      <td>3/23/2016 12:06:44</td>\n",
              "      <td>439</td>\n",
              "      <td>E 4 St &amp; 2 Ave</td>\n",
              "      <td>40.726281</td>\n",
              "      <td>-73.989780</td>\n",
              "      <td>319</td>\n",
              "      <td>Fulton St &amp; Broadway</td>\n",
              "      <td>40.711066</td>\n",
              "      <td>-74.009447</td>\n",
              "      <td>18097</td>\n",
              "      <td>Customer</td>\n",
              "      <td>NaN</td>\n",
              "      <td>0</td>\n",
              "    </tr>\n",
              "    <tr>\n",
              "      <th>2</th>\n",
              "      <td>2016-05-09 07:31:19</td>\n",
              "      <td>5/9/2016 07:38:27</td>\n",
              "      <td>517</td>\n",
              "      <td>Pershing Square South</td>\n",
              "      <td>40.751581</td>\n",
              "      <td>-73.977910</td>\n",
              "      <td>491</td>\n",
              "      <td>E 24 St &amp; Park Ave S</td>\n",
              "      <td>40.740964</td>\n",
              "      <td>-73.986022</td>\n",
              "      <td>17171</td>\n",
              "      <td>Subscriber</td>\n",
              "      <td>1985.0</td>\n",
              "      <td>1</td>\n",
              "    </tr>\n",
              "    <tr>\n",
              "      <th>3</th>\n",
              "      <td>2016-04-17 18:08:30</td>\n",
              "      <td>4/17/2016 18:11:27</td>\n",
              "      <td>3154</td>\n",
              "      <td>E 77 St &amp; 3 Ave</td>\n",
              "      <td>40.773142</td>\n",
              "      <td>-73.958562</td>\n",
              "      <td>3140</td>\n",
              "      <td>1 Ave &amp; E 78 St</td>\n",
              "      <td>40.771404</td>\n",
              "      <td>-73.953517</td>\n",
              "      <td>16765</td>\n",
              "      <td>Subscriber</td>\n",
              "      <td>1989.0</td>\n",
              "      <td>1</td>\n",
              "    </tr>\n",
              "    <tr>\n",
              "      <th>4</th>\n",
              "      <td>2016-05-24 21:10:12</td>\n",
              "      <td>5/24/2016 21:16:51</td>\n",
              "      <td>308</td>\n",
              "      <td>St James Pl &amp; Oliver St</td>\n",
              "      <td>40.713079</td>\n",
              "      <td>-73.998512</td>\n",
              "      <td>251</td>\n",
              "      <td>Mott St &amp; Prince St</td>\n",
              "      <td>40.723180</td>\n",
              "      <td>-73.994800</td>\n",
              "      <td>22554</td>\n",
              "      <td>Subscriber</td>\n",
              "      <td>1964.0</td>\n",
              "      <td>1</td>\n",
              "    </tr>\n",
              "  </tbody>\n",
              "</table>\n",
              "</div>"
            ],
            "text/plain": [
              "             starttime            stoptime  ...  birth year gender\n",
              "0  2016-05-31 19:58:48  5/31/2016 20:03:51  ...      1990.0      1\n",
              "1  2016-03-23 11:32:40  3/23/2016 12:06:44  ...         NaN      0\n",
              "2  2016-05-09 07:31:19   5/9/2016 07:38:27  ...      1985.0      1\n",
              "3  2016-04-17 18:08:30  4/17/2016 18:11:27  ...      1989.0      1\n",
              "4  2016-05-24 21:10:12  5/24/2016 21:16:51  ...      1964.0      1\n",
              "\n",
              "[5 rows x 14 columns]"
            ]
          },
          "metadata": {
            "tags": []
          },
          "execution_count": 3
        }
      ]
    },
    {
      "cell_type": "markdown",
      "metadata": {
        "id": "F4eUIF8RqASr"
      },
      "source": [
        "## Data Pre-Processing"
      ]
    },
    {
      "cell_type": "markdown",
      "metadata": {
        "id": "o2IbPBlOX-sS"
      },
      "source": [
        "#### Datetime Conversion\n",
        "\n",
        "In the dataframe, the `starttime`, `stoptime` columns are object data types. Convert them to datetime objects as you did in the recitations."
      ]
    },
    {
      "cell_type": "code",
      "metadata": {
        "id": "MSsM6p68d_ff",
        "colab": {
          "base_uri": "https://localhost:8080/",
          "height": 221
        },
        "outputId": "98eb07e2-6190-4f44-c25d-c87d0acd8d8e"
      },
      "source": [
        "# your code\n",
        "df[\"starttime\"] = pd.to_datetime(df[\"starttime\"])\n",
        "df[\"stoptime\"] = pd.to_datetime(df[\"stoptime\"])\n",
        "df[\"starttime\"]"
      ],
      "execution_count": null,
      "outputs": [
        {
          "output_type": "execute_result",
          "data": {
            "text/plain": [
              "0       2016-05-31 19:58:48\n",
              "2       2016-05-09 07:31:19\n",
              "3       2016-04-17 18:08:30\n",
              "4       2016-05-24 21:10:12\n",
              "5       2016-01-19 21:44:44\n",
              "                ...        \n",
              "84373   2016-03-17 18:10:01\n",
              "84374   2016-01-08 12:46:03\n",
              "84375   2016-05-02 16:08:22\n",
              "84376   2016-01-06 17:02:06\n",
              "84377   2016-04-01 13:09:19\n",
              "Name: starttime, Length: 75300, dtype: datetime64[ns]"
            ]
          },
          "metadata": {
            "tags": []
          },
          "execution_count": 14
        }
      ]
    },
    {
      "cell_type": "markdown",
      "metadata": {
        "id": "W1La8Z9jX2Ck"
      },
      "source": [
        "#### Dealing with NaN values"
      ]
    },
    {
      "cell_type": "markdown",
      "metadata": {
        "id": "-NpPv8PoebC5"
      },
      "source": [
        "##### Check NaN Distributions\n",
        "\n",
        "Show the percentage of NaN values in each column.\n",
        "\n",
        "*hint: You may check recitation materials.*"
      ]
    },
    {
      "cell_type": "code",
      "metadata": {
        "id": "SMeFYf6UgTCb",
        "colab": {
          "base_uri": "https://localhost:8080/",
          "height": 272
        },
        "outputId": "c53ebb64-56d1-43b0-b188-1474f26859cd"
      },
      "source": [
        "# your code\n",
        "df.isnull().sum() / df.shape[0]"
      ],
      "execution_count": null,
      "outputs": [
        {
          "output_type": "execute_result",
          "data": {
            "text/plain": [
              "starttime                  0.000000\n",
              "stoptime                   0.000000\n",
              "start station id           0.000000\n",
              "start station name         0.000000\n",
              "start station latitude     0.000000\n",
              "start station longitude    0.000000\n",
              "end station id             0.000000\n",
              "end station name           0.000000\n",
              "end station latitude       0.000000\n",
              "end station longitude      0.000000\n",
              "bikeid                     0.000000\n",
              "usertype                   0.000000\n",
              "birth year                 0.107587\n",
              "gender                     0.000000\n",
              "dtype: float64"
            ]
          },
          "metadata": {
            "tags": []
          },
          "execution_count": 5
        }
      ]
    },
    {
      "cell_type": "markdown",
      "metadata": {
        "id": "FBgz1-3NgW1s"
      },
      "source": [
        "##### Dropping NaNs\n",
        "\n",
        "In the following tasks, you will work on age distribution and grouppings. As a result, you need to get rid of NaN age values.\n",
        "\n",
        "Drop NaN values from the dataframe.\n"
      ]
    },
    {
      "cell_type": "code",
      "metadata": {
        "id": "q6Khu_sdi20l"
      },
      "source": [
        "# your code\n",
        "df = df.dropna()"
      ],
      "execution_count": null,
      "outputs": []
    },
    {
      "cell_type": "markdown",
      "metadata": {
        "id": "QAAtd9nIYBDy"
      },
      "source": [
        "#### Distance Calculation\n",
        "\n",
        "Create a new column named `distance` by calculating the distance between starting and ending locations of the bike rents.\n",
        "\n",
        "You may utilize any library you wish. But we encourage you to use [Geopy](https://pypi.org/project/geopy/) library and its distance functionality.\n",
        "\n",
        "Please check out the usage of the library from the url provided if you decided to use Geopy."
      ]
    },
    {
      "cell_type": "code",
      "metadata": {
        "id": "-L5VQKclKEqU"
      },
      "source": [
        "# your code\n",
        "from geopy.distance import geodesic\n",
        "\n",
        "def dist(a,b,c,d):\n",
        "  start = (a,b)\n",
        "  stop = (c,d)\n",
        "  return geodesic(stop,start).miles\n",
        "\n",
        "df[\"distance\"] = df.apply(lambda x: dist(x['start station latitude'],x['start station longitude'],x['end station latitude'],x['end station longitude']), axis = 1)"
      ],
      "execution_count": null,
      "outputs": []
    },
    {
      "cell_type": "markdown",
      "metadata": {
        "id": "_Fdx0AZOM_kW"
      },
      "source": [
        "#### Age Distribution\n",
        "\n",
        "As you may have checked, the age of people who uses bikes in the NYC varies a lot. To analyze this observation further, we can categorize the age of people using bikes. However, before doing that it is a good idea to check the age distribution first.\n",
        "\n",
        "**Now, please perform following tasks.**\n",
        "\n",
        "1. **Create a function to be applied on the dataframe to extract the age information from given `birth year` column. Then, create a new column called `age` with the information extracted.**\n",
        "2. **Check age distribution (of column `age`) in a histogram.**\n",
        "3. **Create your own age categories after observing the age distributions.**\n",
        "4. **Express your rationale on your age category selection with markdown writing (and please use available formatting options).**\n",
        "\n",
        "An example category list is given below.\n",
        "\n",
        "*An example age category list:*\n",
        "  - *Between 0 and 14 ages, child*\n",
        "  - *Between 15 and 24 ages, young* \n",
        "  - *Between 25 and 64 ages, adult*\n",
        "  - *For people who are 65+, senior*"
      ]
    },
    {
      "cell_type": "code",
      "metadata": {
        "id": "4vA5Vsu-QCje",
        "colab": {
          "base_uri": "https://localhost:8080/",
          "height": 282
        },
        "outputId": "abffd2c4-6f73-4000-d6a0-cadc1caa5dba"
      },
      "source": [
        "from datetime import datetime\n",
        "\n",
        "def agef(x):\n",
        "  return datetime.now().year - x\n",
        "\n",
        "df[\"age\"] = df[\"birth year\"].apply(agef).astype(int)\n",
        "df[\"age\"].plot(kind=\"hist\", bins=20, rwidth=0.9)"
      ],
      "execution_count": null,
      "outputs": [
        {
          "output_type": "execute_result",
          "data": {
            "text/plain": [
              "<matplotlib.axes._subplots.AxesSubplot at 0x7fab8f3872e8>"
            ]
          },
          "metadata": {
            "tags": []
          },
          "execution_count": 16
        },
        {
          "output_type": "display_data",
          "data": {
            "image/png": "[encoded data removed]",
            "text/plain": [
              "<Figure size 432x288 with 1 Axes>"
            ]
          },
          "metadata": {
            "tags": []
          }
        }
      ]
    },
    {
      "cell_type": "markdown",
      "metadata": {
        "id": "O8E6DunoZS5z"
      },
      "source": [
        "#### Age Groups\n",
        "\n",
        "\n",
        "In order to categorize bike users in terms of their ages, create a function for age categorization called `age_categorize` by referring to the categories and their corresponding age intervals that you explained and justified above. Then, **apply** this function to create a new column in the dataframe called `age_category`."
      ]
    },
    {
      "cell_type": "code",
      "metadata": {
        "id": "gSLgByY7E061"
      },
      "source": [
        "def age_categorize(age):\n",
        "  if age<10:\n",
        "    return \"Child\"\n",
        "  elif age<35:\n",
        "    return \"Young\"\n",
        "  elif age<70:\n",
        "    return \"Adult\"\n",
        "  else :\n",
        "    return \"Senior\"\n",
        "\n",
        "df[\"age_category\"]=df[\"age\"].apply(age_categorize).astype(str)"
      ],
      "execution_count": null,
      "outputs": []
    },
    {
      "cell_type": "markdown",
      "metadata": {
        "id": "Wnbt03-TXRKt"
      },
      "source": [
        "## Extracting Insights"
      ]
    },
    {
      "cell_type": "markdown",
      "metadata": {
        "id": "-KplV3EXaIWo"
      },
      "source": [
        "#### Distance Distributions\n",
        "\n",
        "With a histogram, plot the distribution of the `distance` column that you added to the dataframe in the earlier steps.\n"
      ]
    },
    {
      "cell_type": "code",
      "metadata": {
        "id": "J_8fL2-7J3mt",
        "colab": {
          "base_uri": "https://localhost:8080/",
          "height": 282
        },
        "outputId": "21654371-62e7-4f16-d2fb-bd030ea206f1"
      },
      "source": [
        "df[\"distance\"].plot(kind = \"hist\", bins = 50, rwidth = 0.9)"
      ],
      "execution_count": null,
      "outputs": [
        {
          "output_type": "execute_result",
          "data": {
            "text/plain": [
              "<matplotlib.axes._subplots.AxesSubplot at 0x7fab8d098e80>"
            ]
          },
          "metadata": {
            "tags": []
          },
          "execution_count": 12
        },
        {
          "output_type": "display_data",
          "data": {
            "image/png": "[encoded data removed]",
            "text/plain": [
              "<Figure size 432x288 with 1 Axes>"
            ]
          },
          "metadata": {
            "tags": []
          }
        }
      ]
    },
    {
      "cell_type": "markdown",
      "metadata": {
        "id": "hOIpFrhSalNr"
      },
      "source": [
        "#### Observation Regarding Distances\n",
        "\n",
        "Does something seem odd? Some of the distances between start and end points seem to be 0. This should be the cases where people leaving the bikes to the same station where they rent them. \n",
        "\n",
        "To make sure, \n",
        "1. Please find those cases by showing the total counts of rows where the starting and ending stations are same.\n",
        "2. Plot those cases against rentals do not start and end in same stations in a bar chart.\n",
        "\n",
        "*(You can also utilize the id of these bike rental stations.)*"
      ]
    },
    {
      "cell_type": "code",
      "metadata": {
        "id": "4YrvBky-S7hd",
        "colab": {
          "base_uri": "https://localhost:8080/",
          "height": 281
        },
        "outputId": "eba0e034-9bfc-4585-aea0-1b6a59f0747f"
      },
      "source": [
        "def distance_count(df):\n",
        "    return df.query('distance == \"0\"').distance.count()\n",
        "objects = ('Zero', 'Non-Zero',)\n",
        "y_pos = [0,0.5]\n",
        "occurence = [distance_count(df),df.shape[0]+1]\n",
        "plt.bar(y_pos, occurence,align='center',width=0.2)\n",
        "\n",
        "plt.xticks(y_pos, objects)\n",
        "plt.ylabel('Occurences')\n",
        "plt.title('Distance')\n",
        "plt.show()"
      ],
      "execution_count": null,
      "outputs": [
        {
          "output_type": "display_data",
          "data": {
            "image/png": "[encoded data removed]",
            "text/plain": [
              "<Figure size 432x288 with 1 Axes>"
            ]
          },
          "metadata": {
            "tags": []
          }
        }
      ]
    },
    {
      "cell_type": "markdown",
      "metadata": {
        "id": "YSVZcedYYGSp"
      },
      "source": [
        "#### Rentals in Weekdays vs. Weekends\n",
        "\n",
        "Since we have the date information for the bike rentals, by utilizing the functionality of the `datetime` library we can obtain the day information from the `starttime` and `stoptime`.\n",
        "\n",
        "Now, your tasks are following:\n",
        "  \n",
        "  - Extract the day of week (Monday, Tuesday, etc.) information from `starttime` column and create a new column in the dataframe called `day`\n",
        "  - Using this column, create a new column called `time_of_week`, which shows if the `day` value is in weekdays are in weekend days.\n",
        "  - Create another column named `hour` by extracting the hour attribute from start time. \n",
        "  - Then, with these columns, show the average bike rental amounts per hour for weekdays and weekends in the same figure with line charts.\n",
        "\n",
        "Please check the documentation of the [date objects](https://docs.python.org/3/library/datetime.html#datetime.date) in the datetime library from the link provided."
      ]
    },
    {
      "cell_type": "code",
      "metadata": {
        "id": "dZHL_bfOWZJD",
        "colab": {
          "base_uri": "https://localhost:8080/",
          "height": 354
        },
        "outputId": "c23f11ac-815e-4618-ac8b-46f62d0b4e41"
      },
      "source": [
        "from datetime import date\n",
        "df[\"day\"]=df['starttime'].apply(lambda x:x.date().strftime('%A'))\n",
        "def weekcheck(x):\n",
        "  if x<5:\n",
        "    return \"Weekday\"\n",
        "  else:\n",
        "    return \"Weekend\"\n",
        "\n",
        "df[\"time_of_week\"]=df[\"starttime\"].dt.weekday.apply(weekcheck)\n",
        "df[\"hour\"]=df[\"starttime\"].dt.hour\n",
        "\n",
        "fig, axes = plt.subplots(1,1, figsize=(20,5))\n",
        "df1=df[df['time_of_week']==\"Weekday\"]\n",
        "df2=df[df['time_of_week']==\"Weekend\"]\n",
        "ax = df1.groupby(['hour']).size().plot(ax=axes, marker=\"o\",color=\"r\")\n",
        "ax1 = df2.groupby(['hour']).size().plot(ax=axes, marker=\"o\",color=\"c\")\n",
        "ax.set_xticks(np.arange(0, 23, 1, dtype='int64'))\n",
        "ax.set_xlim(np.array([0, 23], dtype='int64'))\n",
        "ax.grid()\n",
        "ax.legend(['Weekday','Weekend'])\n",
        "plt.show()"
      ],
      "execution_count": null,
      "outputs": [
        {
          "output_type": "display_data",
          "data": {
            "image/png": "[encoded data removed]",
            "text/plain": [
              "<Figure size 1440x360 with 1 Axes>"
            ]
          },
          "metadata": {
            "tags": []
          }
        }
      ]
    },
    {
      "cell_type": "markdown",
      "metadata": {
        "id": "2CzRCPe9a8ZQ"
      },
      "source": [
        "#### Age Distributions by Gender\n",
        "\n",
        "In our original data, gender information was mapped as follows:\n",
        "\n",
        "    - 0: unknown\n",
        "    - 1: male\n",
        "    - 2: female\n",
        "\n",
        "Use this information to display the age distributions of male and female bike users in different graphs. To do that, please use **matplotlib**'s `subplots` option to create 2 graphs located in the same row."
      ]
    },
    {
      "cell_type": "code",
      "metadata": {
        "id": "O0EufkDDrTkN",
        "colab": {
          "base_uri": "https://localhost:8080/",
          "height": 298
        },
        "outputId": "fe205250-d26e-40a6-ef80-6b08659f9c34"
      },
      "source": [
        "# your code\n",
        "dm = df[df[\"gender\"] == 1]\n",
        "\n",
        "dw = df[df[\"gender\"] == 2]\n",
        "\n",
        "plt.subplot(1,2,1)\n",
        "plt.title(\"Women Ages\")\n",
        "dw[\"age\"].plot(kind=\"hist\", bins=15, rwidth=0.9, color = \"r\")\n",
        "\n",
        "plt.subplot(1,2,2)\n",
        "plt.title(\"Man Ages\")\n",
        "dm[\"age\"].plot(kind=\"hist\", bins=15, rwidth=0.9)"
      ],
      "execution_count": null,
      "outputs": [
        {
          "output_type": "execute_result",
          "data": {
            "text/plain": [
              "<matplotlib.axes._subplots.AxesSubplot at 0x7fab8fb4c9e8>"
            ]
          },
          "metadata": {
            "tags": []
          },
          "execution_count": 24
        },
        {
          "output_type": "display_data",
          "data": {
            "image/png": "[encoded data removed]",
            "text/plain": [
              "<Figure size 432x288 with 2 Axes>"
            ]
          },
          "metadata": {
            "tags": []
          }
        }
      ]
    },
    {
      "cell_type": "markdown",
      "metadata": {
        "id": "5RdDNMJsYeYu"
      },
      "source": [
        "#### Usage by Age Groups\n",
        "\n",
        "Write a function that will display the usage of bike rental system by different age groups in a pie chart *for a given time interval*. For this taks, the first step is provided for you, please complete the implementation of the function named `age_groups_in_time_intervals`. The function will take two datetime parameters for `starttime` values and will show age group ratios in pie chart."
      ]
    },
    {
      "cell_type": "code",
      "metadata": {
        "id": "yEVUCvCvnIPf"
      },
      "source": [
        "# your code\n",
        "def age_groups_in_time_intervals(time1, time2):\n",
        "  # TO-DO: complete the implementation\n",
        "  fig, ax = plt.subplots()\n",
        "  size = df.groupby(by=\"age_category\").size()\n",
        "  labels = 'Adult','Senior', 'Young'\n",
        "  ax.set_xticks(np.arange(time1,time2,15,dtype='datetime64[D]'))\n",
        "  plt.title('Ratios of usage by Age Groups between ' + time1 + 'and' + time2)\n",
        "  ax.pie(size,labels=labels,autopct = '%1.1f%%',shadow=True, startangle=90)\n",
        "  ax.axis('equal')\n",
        "  # Title for the pie chart is given below,\n",
        "  # you do not need to edit it.\n",
        "  plt.title('Ratios of usage by Age Groups between ' + time1  + ' and ' + time2)\n",
        "  # At the end, plt.show() will be called\n",
        "  plt.show()"
      ],
      "execution_count": null,
      "outputs": []
    },
    {
      "cell_type": "markdown",
      "metadata": {
        "id": "urNoPx4haEWo"
      },
      "source": [
        "#### Age Groups vs Distance \n",
        "\n",
        "Similar to the task above, we can also investigate the variance of distance between age groups. Plot histograms of distances in each age group in a juxtaposed 1x3 layout."
      ]
    },
    {
      "cell_type": "code",
      "metadata": {
        "id": "_KDsclcW6PTP"
      },
      "source": [
        "# your code\n",
        "fig, axs =plt.subplots(1,3,sharex = True, sharey = False, figsize = (16,7))\n",
        "axs[0].hist(df[df['age_category'] == 'Young']['dist'], bins= 12, color = 'red')\n",
        "axs[0].set_title(\"Young\")\n",
        "axs[1].hist(df[df['age_category'] == 'Adult']['dist'], bins= 12)\n",
        "axs[1].set_title(\"Adult\")\n",
        "axs[2].hist(df[df['age_category'] == 'Senior']['dist'], bins= 12, color = 'blue')\n",
        "axs[2].set_title(\"Senior\")"
      ],
      "execution_count": null,
      "outputs": []
    },
    {
      "cell_type": "markdown",
      "metadata": {
        "id": "aRTaBWaeXm-q"
      },
      "source": [
        "## Spatial Visualizations\n",
        "\n",
        "In this section, you are going to utilize the latitude and longitude values associated with bike rentals and visualize them on a real-world map. "
      ]
    },
    {
      "cell_type": "markdown",
      "metadata": {
        "id": "mGT1evvBXqao"
      },
      "source": [
        "#### Bike Stations in NYC\n",
        "\n",
        "From all locations (latitude, longitude pairs) in start and end stations, extract the unique ones and display them as circle markers on the map."
      ]
    },
    {
      "cell_type": "code",
      "metadata": {
        "id": "c6D7ljoJu1_W"
      },
      "source": [
        "# your solution"
      ],
      "execution_count": null,
      "outputs": []
    },
    {
      "cell_type": "markdown",
      "metadata": {
        "id": "WwfzI3tkcKh4"
      },
      "source": [
        "#### Heatmap of Rentals\n",
        "\n",
        "Extract the latitude and longitude values of rental start locations and display their heatmap. \n",
        "\n",
        "In order to generate a heatmap, you may use the link below.\n",
        "\n",
        "https://python-visualization.github.io/folium/plugins.html#folium.plugins.HeatMap"
      ]
    },
    {
      "cell_type": "code",
      "metadata": {
        "id": "Yi7aXHE1cMLy"
      },
      "source": [
        "# your code"
      ],
      "execution_count": null,
      "outputs": []
    }
  ]
}